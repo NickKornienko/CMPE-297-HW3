{
  "cells": [
    {
      "cell_type": "markdown",
      "metadata": {
        "id": "view-in-github",
        "colab_type": "text"
      },
      "source": [
        "<a href=\"https://colab.research.google.com/github/NickKornienko/CMPE-297-HW3/blob/main/DPO_Zephyr_Unsloth_Example.ipynb\" target=\"_parent\"><img src=\"https://colab.research.google.com/assets/colab-badge.svg\" alt=\"Open In Colab\"/></a>"
      ]
    },
    {
      "cell_type": "markdown",
      "metadata": {
        "id": "o6RxqIirisTj"
      },
      "source": [
        "To run this, press \"Runtime\" and press \"Run all\" on a **free** Tesla T4 Google Colab instance!\n",
        "<div class=\"align-center\">\n",
        "  <a href=\"https://github.com/unslothai/unsloth\"><img src=\"https://github.com/unslothai/unsloth/raw/main/images/unsloth%20new%20logo.png\" width=\"115\"></a>\n",
        "  <a href=\"https://discord.gg/u54VK8m8tk\"><img src=\"https://github.com/unslothai/unsloth/raw/main/images/Discord.png\" width=\"145\"></a>\n",
        "  <a href=\"https://ko-fi.com/unsloth\"><img src=\"https://github.com/unslothai/unsloth/raw/main/images/Kofi button.png\" width=\"145\"></a></a> Join our Discord if you need help!\n",
        "</div>\n",
        "\n",
        "To install Unsloth on your own computer, follow the installation instructions on our Github page [here](https://github.com/unslothai/unsloth#installation-instructions---conda).\n",
        "\n",
        "You will learn how to do [DPO data prep](#Data), and how to [train via `DPOTrainer`](#Train).\n",
        "To learn more about DPO, read TRL's [blog post](https://huggingface.co/blog/dpo-trl). We follow [Huggingface's Alignment Handbook](https://github.com/huggingface/alignment-handbook) to replicate [Zephyr](https://huggingface.co/HuggingFaceH4/zephyr-7b-beta)."
      ]
    },
    {
      "cell_type": "code",
      "execution_count": null,
      "metadata": {
        "id": "2eSvM9zX_2d3"
      },
      "outputs": [],
      "source": [
        "%%capture\n",
        "!pip install unsloth\n",
        "# Also get the latest nightly Unsloth!\n",
        "!pip uninstall unsloth -y && pip install --upgrade --no-cache-dir \"unsloth[colab-new] @ git+https://github.com/unslothai/unsloth.git\""
      ]
    },
    {
      "cell_type": "markdown",
      "metadata": {
        "id": "QYds3fcii6gC"
      },
      "source": [
        "* We support Llama, Mistral, CodeLlama, TinyLlama, Vicuna, Open Hermes etc\n",
        "* And Yi, Qwen ([llamafied](https://huggingface.co/models?sort=trending&search=qwen+llama)), Deepseek, all Llama, Mistral derived archs.\n",
        "* We support 16bit LoRA or 4bit QLoRA. Both 2x faster.\n",
        "* `max_seq_length` can be set to anything, since we do automatic RoPE Scaling via [kaiokendev's](https://kaiokendev.github.io/til) method.\n",
        "* With [PR 26037](https://github.com/huggingface/transformers/pull/26037), we support downloading 4bit models **4x faster**! [Our repo](https://huggingface.co/unsloth) has Llama, Mistral 4bit models.\n",
        "* DPO requires a model already trained by SFT on a similar dataset that is used for DPO. We use `HuggingFaceH4/mistral-7b-sft-beta` as the SFT model. Use this [notebook](https://colab.research.google.com/drive/1Dyauq4kTZoLewQ1cApceUQVNcnnNTzg_?usp=sharing) first to train a SFT model.\n",
        "* [**NEW**] We make Gemma 6 trillion tokens **2.5x faster**! See our [Gemma notebook](https://colab.research.google.com/drive/10NbwlsRChbma1v55m8LAPYG15uQv6HLo?usp=sharing)"
      ]
    },
    {
      "cell_type": "code",
      "execution_count": null,
      "metadata": {
        "id": "E8-BWi7MzkRz"
      },
      "outputs": [],
      "source": [
        "# One must patch the DPO Trainer first!\n",
        "from unsloth import PatchDPOTrainer\n",
        "PatchDPOTrainer()"
      ]
    },
    {
      "cell_type": "code",
      "execution_count": null,
      "metadata": {
        "id": "QmUBVEnvCDJv"
      },
      "outputs": [],
      "source": [
        "from unsloth import FastLanguageModel\n",
        "import torch\n",
        "max_seq_length = 4096 # Choose any! We auto support RoPE Scaling internally!\n",
        "dtype = None # None for auto detection. Float16 for Tesla T4, V100, Bfloat16 for Ampere+\n",
        "load_in_4bit = True # Use 4bit quantization to reduce memory usage. Can be False.\n",
        "\n",
        "model, tokenizer = FastLanguageModel.from_pretrained(\n",
        "    model_name = \"unsloth/gemma-2-2b\", # using gemma-2b\n",
        "    max_seq_length = max_seq_length,\n",
        "    dtype = dtype,\n",
        "    load_in_4bit = load_in_4bit,\n",
        "    # token = \"hf_...\", # use one if using gated models like meta-llama/Llama-2-7b-hf\n",
        ")"
      ]
    },
    {
      "cell_type": "code",
      "execution_count": null,
      "metadata": {
        "cellView": "form",
        "id": "AqkY_wHdKyOl"
      },
      "outputs": [],
      "source": [
        "#@title Alignment Handbook utils\n",
        "import os\n",
        "import re\n",
        "from typing import List, Literal, Optional\n",
        "\n",
        "from datasets import DatasetDict, concatenate_datasets, load_dataset, load_from_disk\n",
        "from datasets.builder import DatasetGenerationError\n",
        "\n",
        "\n",
        "DEFAULT_CHAT_TEMPLATE = \"{% for message in messages %}\\n{% if message['role'] == 'user' %}\\n{{ '<|user|>\\n' + message['content'] + eos_token }}\\n{% elif message['role'] == 'system' %}\\n{{ '<|system|>\\n' + message['content'] + eos_token }}\\n{% elif message['role'] == 'assistant' %}\\n{{ '<|assistant|>\\n'  + message['content'] + eos_token }}\\n{% endif %}\\n{% if loop.last and add_generation_prompt %}\\n{{ '<|assistant|>' }}\\n{% endif %}\\n{% endfor %}\"\n",
        "\n",
        "\n",
        "def apply_chat_template(\n",
        "    example, tokenizer, task: Literal[\"sft\", \"generation\", \"rm\", \"dpo\"] = \"sft\", assistant_prefix=\"<|assistant|>\\n\"\n",
        "):\n",
        "    def _strip_prefix(s, pattern):\n",
        "        # Use re.escape to escape any special characters in the pattern\n",
        "        return re.sub(f\"^{re.escape(pattern)}\", \"\", s)\n",
        "\n",
        "    if task in [\"sft\", \"generation\"]:\n",
        "        messages = example[\"messages\"]\n",
        "        # We add an empty system message if there is none\n",
        "        if messages[0][\"role\"] != \"system\":\n",
        "            messages.insert(0, {\"role\": \"system\", \"content\": \"\"})\n",
        "        example[\"text\"] = tokenizer.apply_chat_template(\n",
        "            messages, tokenize=False, add_generation_prompt=True if task == \"generation\" else False\n",
        "        )\n",
        "    elif task == \"rm\":\n",
        "        if all(k in example.keys() for k in (\"chosen\", \"rejected\")):\n",
        "            chosen_messages = example[\"chosen\"]\n",
        "            rejected_messages = example[\"rejected\"]\n",
        "            # We add an empty system message if there is none\n",
        "            if chosen_messages[0][\"role\"] != \"system\":\n",
        "                chosen_messages.insert(0, {\"role\": \"system\", \"content\": \"\"})\n",
        "            if rejected_messages[0][\"role\"] != \"system\":\n",
        "                rejected_messages.insert(0, {\"role\": \"system\", \"content\": \"\"})\n",
        "            example[\"text_chosen\"] = tokenizer.apply_chat_template(chosen_messages, tokenize=False)\n",
        "            example[\"text_rejected\"] = tokenizer.apply_chat_template(rejected_messages, tokenize=False)\n",
        "        else:\n",
        "            raise ValueError(\n",
        "                f\"Could not format example as dialogue for `rm` task! Require `[chosen, rejected]` keys but found {list(example.keys())}\"\n",
        "            )\n",
        "    elif task == \"dpo\":\n",
        "        if all(k in example.keys() for k in (\"chosen\", \"rejected\")):\n",
        "            # Compared to reward modeling, we filter out the prompt, so the text is everything after the last assistant token\n",
        "            prompt_messages = [[msg for msg in example[\"chosen\"] if msg[\"role\"] == \"user\"][0]]\n",
        "            # Insert system message\n",
        "            if example[\"chosen\"][0][\"role\"] != \"system\":\n",
        "                prompt_messages.insert(0, {\"role\": \"system\", \"content\": \"\"})\n",
        "            else:\n",
        "                prompt_messages.insert(0, example[\"chosen\"][0])\n",
        "            # TODO: handle case where chosen/rejected also have system messages\n",
        "            chosen_messages = example[\"chosen\"][1:]\n",
        "            rejected_messages = example[\"rejected\"][1:]\n",
        "            example[\"text_chosen\"] = tokenizer.apply_chat_template(chosen_messages, tokenize=False)\n",
        "            example[\"text_rejected\"] = tokenizer.apply_chat_template(rejected_messages, tokenize=False)\n",
        "            example[\"text_prompt\"] = tokenizer.apply_chat_template(\n",
        "                prompt_messages, tokenize=False, add_generation_prompt=True\n",
        "            )\n",
        "            example[\"text_chosen\"] = _strip_prefix(example[\"text_chosen\"], assistant_prefix)\n",
        "            example[\"text_rejected\"] = _strip_prefix(example[\"text_rejected\"], assistant_prefix)\n",
        "        else:\n",
        "            raise ValueError(\n",
        "                f\"Could not format example as dialogue for `dpo` task! Require `[chosen, rejected]` keys but found {list(example.keys())}\"\n",
        "            )\n",
        "    else:\n",
        "        raise ValueError(\n",
        "            f\"Task {task} not supported, please ensure that the provided task is one of {['sft', 'generation', 'rm', 'dpo']}\"\n",
        "        )\n",
        "    return example\n",
        "\n",
        "\n",
        "def get_datasets(\n",
        "    data_config: dict,\n",
        "    splits: List[str] = [\"train\", \"test\"],\n",
        "    shuffle: bool = True,\n",
        ") -> DatasetDict:\n",
        "    \"\"\"\n",
        "    Loads one or more datasets with varying training set proportions.\n",
        "\n",
        "    Args:\n",
        "        data_config (`DataArguments` or `dict`):\n",
        "            Dataset configuration and split proportions.\n",
        "        splits (`List[str]`, *optional*, defaults to `['train', 'test']`):\n",
        "            Dataset splits to load and mix. Assumes the splits exist in all datasets and have a `train_` or `test_` prefix.\n",
        "        shuffle (`bool`, *optional*, defaults to `True`):\n",
        "            Whether to shuffle the training and testing/validation data.\n",
        "\n",
        "    Returns\n",
        "        [`DatasetDict`]: The dataset dictionary containing the loaded datasets.\n",
        "    \"\"\"\n",
        "\n",
        "    if type(data_config) is dict:\n",
        "        # Structure of the input is:\n",
        "        #     dataset_mixer = {\n",
        "        #             \"dataset1\": 0.5,\n",
        "        #             \"dataset1\": 0.3,\n",
        "        #             \"dataset1\": 0.2,\n",
        "        #         }\n",
        "        dataset_mixer = data_config\n",
        "    else:\n",
        "        raise ValueError(f\"Data config {data_config} not recognized.\")\n",
        "\n",
        "    raw_datasets = mix_datasets(dataset_mixer, splits=splits, shuffle=shuffle)\n",
        "    return raw_datasets\n",
        "\n",
        "\n",
        "def mix_datasets(dataset_mixer: dict, splits: Optional[List[str]] = None, shuffle=True) -> DatasetDict:\n",
        "    \"\"\"\n",
        "    Loads and mixes datasets according to proportions specified in `dataset_mixer`.\n",
        "\n",
        "    Args:\n",
        "        dataset_mixer (`dict`):\n",
        "            Dictionary containing the dataset names and their training proportions. By default, all test proportions are 1.\n",
        "        splits (Optional[List[str]], *optional*, defaults to `None`):\n",
        "            Dataset splits to load and mix. Assumes the splits exist in all datasets and have a `train_` or `test_` prefix.\n",
        "        shuffle (`bool`, *optional*, defaults to `True`):\n",
        "            Whether to shuffle the training and testing/validation data.\n",
        "    \"\"\"\n",
        "    raw_datasets = DatasetDict()\n",
        "    raw_train_datasets = []\n",
        "    raw_val_datasets = []\n",
        "    fracs = []\n",
        "    for ds, frac in dataset_mixer.items():\n",
        "        fracs.append(frac)\n",
        "        for split in splits:\n",
        "            try:\n",
        "                # Try first if dataset on a Hub repo\n",
        "                dataset = load_dataset(ds, split=split)\n",
        "            except DatasetGenerationError:\n",
        "                # If not, check local dataset\n",
        "                dataset = load_from_disk(os.path.join(ds, split))\n",
        "\n",
        "            if \"train\" in split:\n",
        "                raw_train_datasets.append(dataset)\n",
        "            elif \"test\" in split:\n",
        "                raw_val_datasets.append(dataset)\n",
        "            else:\n",
        "                raise ValueError(f\"Split type {split} not recognized as one of test or train.\")\n",
        "\n",
        "    if any(frac < 0 for frac in fracs):\n",
        "        raise ValueError(\"Dataset fractions cannot be negative.\")\n",
        "\n",
        "    if len(raw_train_datasets) > 0:\n",
        "        train_subsets = []\n",
        "        for dataset, frac in zip(raw_train_datasets, fracs):\n",
        "            train_subset = dataset.select(range(int(frac * len(dataset))))\n",
        "            train_subsets.append(train_subset)\n",
        "        if shuffle:\n",
        "            raw_datasets[\"train\"] = concatenate_datasets(train_subsets).shuffle(seed=42)\n",
        "        else:\n",
        "            raw_datasets[\"train\"] = concatenate_datasets(train_subsets)\n",
        "    # No subsampling for test datasets to enable fair comparison across models\n",
        "    if len(raw_val_datasets) > 0:\n",
        "        if shuffle:\n",
        "            raw_datasets[\"test\"] = concatenate_datasets(raw_val_datasets).shuffle(seed=42)\n",
        "        else:\n",
        "            raw_datasets[\"test\"] = concatenate_datasets(raw_val_datasets)\n",
        "\n",
        "    if len(raw_datasets) == 0:\n",
        "        raise ValueError(\n",
        "            f\"Dataset {dataset_mixer} not recognized with split {split}. Check the dataset has been correctly formatted.\"\n",
        "        )\n",
        "\n",
        "    return raw_datasets"
      ]
    },
    {
      "cell_type": "markdown",
      "metadata": {
        "id": "EQ-Cp2V6kDcr"
      },
      "source": [
        "<a name=\"Data\"></a>\n",
        "### Data Prep\n",
        "We follow Huggingface's [Alignment Handbook](https://github.com/huggingface/alignment-handbook) for [Zephyr](https://huggingface.co/HuggingFaceH4/zephyr-7b-beta) and use the [Ultra Feedback dataset](https://huggingface.co/datasets/HuggingFaceH4/ultrafeedback_binarized), and sample 0.5% of it to speed things up. You can sample the full dataset for a full run."
      ]
    },
    {
      "cell_type": "code",
      "execution_count": null,
      "metadata": {
        "id": "r6bUnxe6N3pf"
      },
      "outputs": [],
      "source": [
        "raw_datasets = get_datasets(\n",
        "    {\"HuggingFaceH4/ultrafeedback_binarized\" : 0.005}, # 0.5% sampled\n",
        "    splits = [\"train_prefs\", \"test_prefs\"],\n",
        ")\n",
        "column_names = list(raw_datasets[\"train\"].features)\n",
        "\n",
        "raw_datasets = raw_datasets.map(\n",
        "    apply_chat_template,\n",
        "    fn_kwargs = {\"tokenizer\": tokenizer, \"task\": \"dpo\"},\n",
        "    num_proc = 12,\n",
        "    remove_columns = column_names,\n",
        "    desc = \"Formatting comparisons with prompt template\",\n",
        ")\n",
        "\n",
        "# Replace column names with what TRL needs, text_chosen -> chosen and text_rejected -> rejected\n",
        "for split in [\"train\", \"test\"]:\n",
        "    raw_datasets[split] = raw_datasets[split].rename_columns(\n",
        "        {\"text_prompt\": \"prompt\", \"text_chosen\": \"chosen\", \"text_rejected\": \"rejected\"}\n",
        "    )"
      ]
    },
    {
      "cell_type": "markdown",
      "metadata": {
        "id": "7AxUmeAGkjDd"
      },
      "source": [
        "We shall print a random item from the dataset"
      ]
    },
    {
      "cell_type": "code",
      "execution_count": null,
      "metadata": {
        "id": "oF63zQqNlNJC"
      },
      "outputs": [],
      "source": [
        "import pprint\n",
        "row = raw_datasets[\"train\"][8]\n",
        "pprint.pprint(row[\"prompt\"])\n",
        "pprint.pprint(row[\"chosen\"])\n",
        "pprint.pprint(row[\"rejected\"])"
      ]
    },
    {
      "cell_type": "markdown",
      "metadata": {
        "id": "86wyNoeMj-Ph"
      },
      "source": [
        "We now add LoRA adapters so we only need to update 1 to 10% of all parameters!"
      ]
    },
    {
      "cell_type": "code",
      "execution_count": null,
      "metadata": {
        "id": "6bZsfBuZDeCL"
      },
      "outputs": [],
      "source": [
        "model = FastLanguageModel.get_peft_model(\n",
        "    model,\n",
        "    r = 64, # Choose any number > 0 ! Suggested 8, 16, 32, 64, 128\n",
        "    target_modules = [\"q_proj\", \"k_proj\", \"v_proj\", \"o_proj\",\n",
        "                      \"gate_proj\", \"up_proj\", \"down_proj\",],\n",
        "    lora_alpha = 64,\n",
        "    lora_dropout = 0, # Currently only supports dropout = 0\n",
        "    bias = \"none\",    # Currently only supports bias = \"none\"\n",
        "    # [NEW] \"unsloth\" uses 30% less VRAM, fits 2x larger batch sizes!\n",
        "    use_gradient_checkpointing = \"unsloth\", # True or \"unsloth\" for very long context\n",
        "    random_state = 3407,\n",
        "    use_rslora = False,  # We support rank stabilized LoRA\n",
        "    loftq_config = None, # And LoftQ\n",
        ")"
      ]
    },
    {
      "cell_type": "markdown",
      "metadata": {
        "id": "-kyd_iyz7DUM"
      },
      "source": [
        "<a name=\"Train\"></a>\n",
        "### Train the DPO model\n",
        "Now let's use Huggingface TRL's `DPOTrainer`! More docs here: [TRL DPO docs](https://huggingface.co/docs/trl/dpo_trainer). We do 3 epochs on 0.5% of the dataset to speed things up."
      ]
    },
    {
      "cell_type": "code",
      "execution_count": null,
      "metadata": {
        "id": "v-2BFpDWzo1K"
      },
      "outputs": [],
      "source": [
        "# One must patch the DPO Trainer first!\n",
        "from unsloth import PatchDPOTrainer\n",
        "PatchDPOTrainer()"
      ]
    },
    {
      "cell_type": "code",
      "execution_count": null,
      "metadata": {
        "id": "QtoqUw80QDV0"
      },
      "outputs": [],
      "source": [
        "from transformers import TrainingArguments\n",
        "from trl import DPOTrainer, DPOConfig\n",
        "from unsloth import is_bfloat16_supported\n",
        "\n",
        "dpo_trainer = DPOTrainer(\n",
        "    model = model,\n",
        "    ref_model = None,\n",
        "    args = DPOConfig(\n",
        "        per_device_train_batch_size = 2,\n",
        "        gradient_accumulation_steps = 4,\n",
        "        warmup_ratio = 0.1,\n",
        "        num_train_epochs = 3,\n",
        "        learning_rate = 5e-6,\n",
        "        fp16 = not is_bfloat16_supported(),\n",
        "        bf16 = is_bfloat16_supported(),\n",
        "        logging_steps = 1,\n",
        "        optim = \"adamw_8bit\",\n",
        "        weight_decay = 0.0,\n",
        "        lr_scheduler_type = \"linear\",\n",
        "        seed = 42,\n",
        "        output_dir = \"outputs\",\n",
        "    ),\n",
        "    beta = 0.1,\n",
        "    train_dataset = raw_datasets[\"train\"],\n",
        "    # eval_dataset = raw_datasets[\"test\"],\n",
        "    tokenizer = tokenizer,\n",
        "    max_length = 1024,\n",
        "    max_prompt_length = 512,\n",
        ")"
      ]
    },
    {
      "cell_type": "code",
      "execution_count": null,
      "metadata": {
        "id": "EWGFqAo5Q2me"
      },
      "outputs": [],
      "source": [
        "dpo_trainer.train()"
      ]
    },
    {
      "cell_type": "markdown",
      "metadata": {
        "id": "Zt9CHJqO6p30"
      },
      "source": [
        "And we're done! If you have any questions on Unsloth, we have a [Discord](https://discord.gg/u54VK8m8tk) channel! If you find any bugs or want to keep updated with the latest LLM stuff, or need help, join projects etc, feel free to join our Discord!\n",
        "\n",
        "Some other links:\n",
        "1. Mistral 7b 2x faster [free Colab](https://colab.research.google.com/drive/1Dyauq4kTZoLewQ1cApceUQVNcnnNTzg_?usp=sharing)\n",
        "2. Llama 7b 2x faster [free Colab](https://colab.research.google.com/drive/1lBzz5KeZJKXjvivbYvmGarix9Ao6Wxe5?usp=sharing)\n",
        "3. TinyLlama 4x faster full Alpaca 52K in 1 hour [free Colab](https://colab.research.google.com/drive/1AZghoNBQaMDgWJpi4RbffGM1h6raLUj9?usp=sharing)\n",
        "4. CodeLlama 34b 2x faster [A100 on Colab](https://colab.research.google.com/drive/1y7A0AxE3y8gdj4AVkl2aZX47Xu3P1wJT?usp=sharing)\n",
        "5. Mistral 7b [free Kaggle version](https://www.kaggle.com/code/danielhanchen/kaggle-mistral-7b-unsloth-notebook)\n",
        "6. We also did a [blog](https://huggingface.co/blog/unsloth-trl) with 🤗 HuggingFace, and we're in the TRL [docs](https://huggingface.co/docs/trl/main/en/sft_trainer#accelerate-fine-tuning-2x-using-unsloth)!\n",
        "7. `ChatML` for ShareGPT datasets, [conversational notebook](https://colab.research.google.com/drive/1Aau3lgPzeZKQ-98h69CCu1UJcvIBLmy2?usp=sharing)\n",
        "8. Text completions like novel writing [notebook](https://colab.research.google.com/drive/1ef-tab5bhkvWmBOObepl1WgJvfvSzn5Q?usp=sharing)\n",
        "9. Gemma 6 trillion tokens is 2.5x faster! [free Colab](https://colab.research.google.com/drive/10NbwlsRChbma1v55m8LAPYG15uQv6HLo?usp=sharing)\n",
        "\n",
        "<div class=\"align-center\">\n",
        "  <a href=\"https://github.com/unslothai/unsloth\"><img src=\"https://github.com/unslothai/unsloth/raw/main/images/unsloth%20new%20logo.png\" width=\"115\"></a>\n",
        "  <a href=\"https://discord.gg/u54VK8m8tk\"><img src=\"https://github.com/unslothai/unsloth/raw/main/images/Discord.png\" width=\"145\"></a>\n",
        "  <a href=\"https://ko-fi.com/unsloth\"><img src=\"https://github.com/unslothai/unsloth/raw/main/images/Kofi button.png\" width=\"145\"></a></a> Support our work if you can! Thanks!\n",
        "</div>"
      ]
    }
  ],
  "metadata": {
    "accelerator": "GPU",
    "colab": {
      "provenance": [],
      "include_colab_link": true
    },
    "kernelspec": {
      "display_name": "Python 3",
      "name": "python3"
    },
    "language_info": {
      "name": "python"
    }
  },
  "nbformat": 4,
  "nbformat_minor": 0
}